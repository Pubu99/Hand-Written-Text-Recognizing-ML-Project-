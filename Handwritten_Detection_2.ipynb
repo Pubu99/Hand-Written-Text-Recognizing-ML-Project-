{
  "cells": [
    {
      "cell_type": "markdown",
      "source": [
        "#EE6350 Artificial Intelligence\n",
        "\n",
        "## Handwritten Text Recognition\n",
        "\n",
        "### The purpose of this project is to give a brief idea and a basic approach for offline handwritten text recognition by using segmentation and classification."
      ],
      "metadata": {
        "id": "prsP3YTRmP_c"
      }
    },
    {
      "cell_type": "markdown",
      "source": [
        "## Approach\n",
        "\n",
        "* **Step1** :  Build a digit(0-9) + A-Z characters classifier using a CNN architecture.\n",
        "* **Step2** :  Apply character segmentation for the handwritten word image.\n",
        "* **Step3** :  Classify each segmented letter and then get the final word in the image."
      ],
      "metadata": {
        "id": "nL2_ajQvpyc1"
      }
    },
    {
      "cell_type": "markdown",
      "source": [
        "\n",
        "### Handwritten Text Recognition - Data Preparation\n",
        "   \n",
        "1. Importing Necessary Libraries\n",
        "   \n",
        "2. Setting Up Dataset Download Parameters\n",
        "   \n",
        "3. Preparing Kaggle Directories\n",
        "   \n",
        "4. Cleaning and Creating Directories\n",
        "   \n",
        "5. Creating Symbolic Links\n",
        "   \n",
        "6. Downloading and Extracting Datasets\n",
        "   \n",
        "7. Completion Message"
      ],
      "metadata": {
        "id": "aZLsm2CQrSEw"
      }
    },
    {
      "cell_type": "code",
      "execution_count": 5,
      "metadata": {
        "colab": {
          "base_uri": "https://localhost:8080/"
        },
        "id": "o4awA2NrdXxY",
        "outputId": "da212cf0-e118-42f2-a99e-765fa683fb3f"
      },
      "outputs": [
        {
          "output_type": "stream",
          "name": "stdout",
          "text": [
            "Downloading handwritten-characters, 1740501298 bytes compressed\n",
            "[==================================================] 1740501298 bytes downloaded\n",
            "Downloaded and uncompressed: handwritten-characters\n",
            "Downloading handwriting-recognition, 1353071625 bytes compressed\n",
            "[==================================================] 1353071625 bytes downloaded\n",
            "Downloaded and uncompressed: handwriting-recognition\n",
            "Data source import complete.\n"
          ]
        }
      ],
      "source": [
        "import os\n",
        "import sys\n",
        "from tempfile import NamedTemporaryFile\n",
        "from urllib.request import urlopen\n",
        "from urllib.parse import unquote, urlparse\n",
        "from urllib.error import HTTPError\n",
        "from zipfile import ZipFile\n",
        "import tarfile\n",
        "import shutil\n",
        "\n",
        "CHUNK_SIZE = 40960\n",
        "DATA_SOURCE_MAPPING = 'handwritten-characters:https%3A%2F%2Fstorage.googleapis.com%2Fkaggle-data-sets%2F53376%2F101598%2Fbundle%2Farchive.zip%3FX-Goog-Algorithm%3DGOOG4-RSA-SHA256%26X-Goog-Credential%3Dgcp-kaggle-com%2540kaggle-161607.iam.gserviceaccount.com%252F20240620%252Fauto%252Fstorage%252Fgoog4_request%26X-Goog-Date%3D20240620T193810Z%26X-Goog-Expires%3D259200%26X-Goog-SignedHeaders%3Dhost%26X-Goog-Signature%3D102ee0945e01ca00bd292dad7c5d14d01dc1a599bcb1ed51bc0046a7f393bc27387bada1edd37ebd335bf3bb7b8cfc81e570feb495eea88438e362510e1a2705af573c8dbea66b32694b610ff851119f614a69df42628a94877b120248b3f470fb1465574118d47d1963221307e8af1bb0cd3a580019a307929ee664ef33ec6b9e7de738239e6688a195771a64ca041aec7a5855be7089ba8e2acc0ba6749962a516f2905e587e0f8213dd8b33e2351d36d06caa2dd327acefa21c73c558cd39ea4bc3dbab499c1ce002ce92a62f042ef9d4acee8d166467afab9cb886c064ef6bcf6bf643c2ffce26fae4ed66a6734f3849c49311dab3637c937092beb5e457,handwriting-recognition:https%3A%2F%2Fstorage.googleapis.com%2Fkaggle-data-sets%2F818027%2F1400106%2Fbundle%2Farchive.zip%3FX-Goog-Algorithm%3DGOOG4-RSA-SHA256%26X-Goog-Credential%3Dgcp-kaggle-com%2540kaggle-161607.iam.gserviceaccount.com%252F20240620%252Fauto%252Fstorage%252Fgoog4_request%26X-Goog-Date%3D20240620T193810Z%26X-Goog-Expires%3D259200%26X-Goog-SignedHeaders%3Dhost%26X-Goog-Signature%3D5b5abd12819a47f4f205ded6d2a5c89bf7f4ee48709f8fdd7a58bae65ea0935a347c51f49ffdcabe7964ad47dfa88d967b950797149cabb51bd60e0990241960849ebbe9e5021e1c6155fb238e041df5dcc87da9659b71009eac6b03a102efb5bf6ee35ab38dae8f2db1f03905c90cfccfe5a5e8d77bf60c34cdb5bb5a7f0df66affb907375a72a1ce34c2ed6f8e7da29ddb477b7abf784e1d43801d4af32c4cd1a483ea137327a8b0fda0a9fe20fe04683524a8cd216289322c1b3bf8c7aa04572531e1e05f6a2556e7d36303846aeea1a2d54cb6afce9e6baed126015b3a9b956a7c52c1b9da99e91033bc769f7c8e41362de1802559565388a8cd26a8698c'\n",
        "\n",
        "KAGGLE_INPUT_PATH='/kaggle/input'\n",
        "KAGGLE_WORKING_PATH='/kaggle/working'\n",
        "KAGGLE_SYMLINK='kaggle'\n",
        "\n",
        "!umount /kaggle/input/ 2> /dev/null\n",
        "shutil.rmtree('/kaggle/input', ignore_errors=True)\n",
        "os.makedirs(KAGGLE_INPUT_PATH, 0o777, exist_ok=True)\n",
        "os.makedirs(KAGGLE_WORKING_PATH, 0o777, exist_ok=True)\n",
        "\n",
        "try:\n",
        "  os.symlink(KAGGLE_INPUT_PATH, os.path.join(\"..\", 'input'), target_is_directory=True)\n",
        "except FileExistsError:\n",
        "  pass\n",
        "try:\n",
        "  os.symlink(KAGGLE_WORKING_PATH, os.path.join(\"..\", 'working'), target_is_directory=True)\n",
        "except FileExistsError:\n",
        "  pass\n",
        "\n",
        "for data_source_mapping in DATA_SOURCE_MAPPING.split(','):\n",
        "    directory, download_url_encoded = data_source_mapping.split(':')\n",
        "    download_url = unquote(download_url_encoded)\n",
        "    filename = urlparse(download_url).path\n",
        "    destination_path = os.path.join(KAGGLE_INPUT_PATH, directory)\n",
        "    try:\n",
        "        with urlopen(download_url) as fileres, NamedTemporaryFile() as tfile:\n",
        "            total_length = fileres.headers['content-length']\n",
        "            print(f'Downloading {directory}, {total_length} bytes compressed')\n",
        "            dl = 0\n",
        "            data = fileres.read(CHUNK_SIZE)\n",
        "            while len(data) > 0:\n",
        "                dl += len(data)\n",
        "                tfile.write(data)\n",
        "                done = int(50 * dl / int(total_length))\n",
        "                sys.stdout.write(f\"\\r[{'=' * done}{' ' * (50-done)}] {dl} bytes downloaded\")\n",
        "                sys.stdout.flush()\n",
        "                data = fileres.read(CHUNK_SIZE)\n",
        "            if filename.endswith('.zip'):\n",
        "              with ZipFile(tfile) as zfile:\n",
        "                zfile.extractall(destination_path)\n",
        "            else:\n",
        "              with tarfile.open(tfile.name) as tarfile:\n",
        "                tarfile.extractall(destination_path)\n",
        "            print(f'\\nDownloaded and uncompressed: {directory}')\n",
        "    except HTTPError as e:\n",
        "        print(f'Failed to load (likely expired) {download_url} to path {destination_path}')\n",
        "        continue\n",
        "    except OSError as e:\n",
        "        print(f'Failed to load {download_url} to path {destination_path}')\n",
        "        continue\n",
        "\n",
        "print('Data source import complete.')\n"
      ]
    },
    {
      "cell_type": "code",
      "execution_count": 6,
      "metadata": {
        "colab": {
          "base_uri": "https://localhost:8080/"
        },
        "id": "hyXMuJezdXxi",
        "outputId": "96e50b90-606d-41f0-d6f7-7e6da8514d8c"
      },
      "outputs": [
        {
          "output_type": "stream",
          "name": "stdout",
          "text": [
            "Requirement already satisfied: imutils in /usr/local/lib/python3.10/dist-packages (0.5.4)\n"
          ]
        }
      ],
      "source": [
        "!pip install imutils"
      ]
    },
    {
      "cell_type": "markdown",
      "source": [
        "## **Importing Libraries for Data Handling and Model Building**\n",
        "\n",
        "In this section, we import a comprehensive set of libraries necessary for handling data and building our machine learning model for handwritten text recognition. These libraries provide tools for data manipulation, preprocessing, visualization, and deep learning model construction."
      ],
      "metadata": {
        "id": "UdaAzsumtZIn"
      }
    },
    {
      "cell_type": "code",
      "execution_count": 7,
      "metadata": {
        "id": "zB18V_yZdXxj"
      },
      "outputs": [],
      "source": [
        "import numpy as np\n",
        "import pandas as pd\n",
        "from keras.preprocessing.image import ImageDataGenerator\n",
        "import os\n",
        "import random\n",
        "import cv2\n",
        "import imutils\n",
        "import random\n",
        "import matplotlib.pyplot as plt\n",
        "import seaborn as sns\n",
        "from sklearn.preprocessing import LabelBinarizer\n",
        "# Instead of keras.utils import np_utils use the below import\n",
        "from tensorflow.keras.utils import to_categorical\n",
        "from keras.models import Sequential\n",
        "from keras import optimizers\n",
        "from sklearn.preprocessing import LabelBinarizer\n",
        "from keras import backend as K\n",
        "from keras.layers import Dense, Activation, Flatten, Dense,MaxPooling2D, Dropout\n",
        "from keras.layers import Conv2D, MaxPooling2D, BatchNormalization"
      ]
    },
    {
      "cell_type": "markdown",
      "source": [
        "## **Preparing the Training Data**\n",
        "\n",
        "In this section, we set up the directory path for our training dataset and preprocess the images to make them ready for model training. This involves reading images, resizing them to a uniform size, and filtering out specific non-character images. The preprocessed images are then stored in a list along with their respective labels."
      ],
      "metadata": {
        "id": "mdIXIra8tq5h"
      }
    },
    {
      "cell_type": "code",
      "execution_count": 8,
      "metadata": {
        "id": "BhpLPPk7dXxk"
      },
      "outputs": [],
      "source": [
        "dir = \"../input/handwritten-characters/Train/\"\n",
        "train_data = []\n",
        "img_size = 32\n",
        "non_chars = [\"#\",\"$\",\"&\",\"@\"]\n",
        "for i in os.listdir(dir):\n",
        "    if i in non_chars:\n",
        "        continue\n",
        "    count = 0\n",
        "    sub_directory = os.path.join(dir,i)\n",
        "    for j in os.listdir(sub_directory):\n",
        "        count+=1\n",
        "        if count > 4000:\n",
        "            break\n",
        "        img = cv2.imread(os.path.join(sub_directory,j),0)\n",
        "        img = cv2.resize(img,(img_size,img_size))\n",
        "        train_data.append([img,i])"
      ]
    },
    {
      "cell_type": "code",
      "execution_count": 9,
      "metadata": {
        "colab": {
          "base_uri": "https://localhost:8080/"
        },
        "id": "bnajId3_dXxk",
        "outputId": "cbcd1804-4f5b-46e9-83d6-f2f0a990c6ef"
      },
      "outputs": [
        {
          "output_type": "execute_result",
          "data": {
            "text/plain": [
              "140000"
            ]
          },
          "metadata": {},
          "execution_count": 9
        }
      ],
      "source": [
        "len(train_data)"
      ]
    },
    {
      "cell_type": "markdown",
      "source": [
        "## **Preparing the Validation Data**\n",
        "\n",
        "In this section, we set up the directory path for our validation dataset and preprocess the images in a similar manner to the training dataset. This process includes reading and resizing the images, filtering out specific non-character images, and storing the preprocessed images along with their corresponding labels. Validation data helps in evaluating the model's performance on unseen data during the training phase."
      ],
      "metadata": {
        "id": "jED49m0zuDP2"
      }
    },
    {
      "cell_type": "code",
      "execution_count": 10,
      "metadata": {
        "id": "vw_h7fZZdXxl"
      },
      "outputs": [],
      "source": [
        "val_dir = \"../input/handwritten-characters/Validation/\"\n",
        "val_data = []\n",
        "img_size = 32\n",
        "for i in os.listdir(val_dir):\n",
        "    if i in non_chars:\n",
        "        continue\n",
        "    count = 0\n",
        "    sub_directory = os.path.join(val_dir,i)\n",
        "    for j in os.listdir(sub_directory):\n",
        "        count+=1\n",
        "        if count > 1000:\n",
        "            break\n",
        "        img = cv2.imread(os.path.join(sub_directory,j),0)\n",
        "        img = cv2.resize(img,(img_size,img_size))\n",
        "        val_data.append([img,i])"
      ]
    },
    {
      "cell_type": "code",
      "execution_count": 11,
      "metadata": {
        "colab": {
          "base_uri": "https://localhost:8080/"
        },
        "id": "wJuEtLxMdXxm",
        "outputId": "b0701b50-3376-4feb-a589-fcad961d91e3"
      },
      "outputs": [
        {
          "output_type": "execute_result",
          "data": {
            "text/plain": [
              "15209"
            ]
          },
          "metadata": {},
          "execution_count": 11
        }
      ],
      "source": [
        "len(val_data)"
      ]
    },
    {
      "cell_type": "code",
      "execution_count": 12,
      "metadata": {
        "id": "ujTuAyFRdXxm"
      },
      "outputs": [],
      "source": [
        "random.shuffle(train_data)\n",
        "random.shuffle(val_data)"
      ]
    },
    {
      "cell_type": "markdown",
      "source": [
        " ## **Separating Features and Labels for Training Data**\n",
        "\n",
        "\n",
        "This section focuses on splitting the preprocessed training data into two distinct lists: one for the features (images) and another for the labels (characters). This separation is essential for training the model, as it requires the input features to learn patterns and the corresponding labels to understand the classification targets."
      ],
      "metadata": {
        "id": "mGNFcIsYut_4"
      }
    },
    {
      "cell_type": "code",
      "execution_count": 13,
      "metadata": {
        "id": "90OTtmb_dXxm"
      },
      "outputs": [],
      "source": [
        "train_X = []\n",
        "train_Y = []\n",
        "for features,label in train_data:\n",
        "    train_X.append(features)\n",
        "    train_Y.append(label)"
      ]
    },
    {
      "cell_type": "markdown",
      "source": [
        "## **Separating Features and Labels for Validation Data**\n",
        "\n",
        "In this section, the validation data is split into two separate lists: one for the features (images) and one for the labels (characters). This separation is crucial for the subsequent evaluation of the model's performance on unseen data during the training phase."
      ],
      "metadata": {
        "id": "W6GIVZWZu6R9"
      }
    },
    {
      "cell_type": "code",
      "execution_count": 14,
      "metadata": {
        "id": "WRK133oAdXxn"
      },
      "outputs": [],
      "source": [
        "val_X = []\n",
        "val_Y = []\n",
        "for features,label in val_data:\n",
        "    val_X.append(features)\n",
        "    val_Y.append(label)"
      ]
    },
    {
      "cell_type": "markdown",
      "source": [
        "## **Encoding Labels for Training and Validation Data**\n",
        "\n",
        "In this section, the labels for both the training and validation datasets are encoded using LabelBinarizer from scikit-learn. This transformation converts categorical labels (characters) into binary vectors, which are essential for training and evaluating classification models."
      ],
      "metadata": {
        "id": "m8032SEfvFTa"
      }
    },
    {
      "cell_type": "code",
      "execution_count": 15,
      "metadata": {
        "id": "2k0bi36RdXxn"
      },
      "outputs": [],
      "source": [
        "LB = LabelBinarizer()\n",
        "train_Y = LB.fit_transform(train_Y)\n",
        "val_Y = LB.fit_transform(val_Y)"
      ]
    },
    {
      "cell_type": "markdown",
      "source": [
        "## **Preparing Training Data for Model Input**\n",
        "\n",
        "In this section, the training data (train_X and train_Y) is prepared for input into the deep learning model. This involves scaling the pixel values of images and reshaping them to conform to the expected input shape of the model."
      ],
      "metadata": {
        "id": "Vc_ZbQBpvSGg"
      }
    },
    {
      "cell_type": "code",
      "execution_count": 16,
      "metadata": {
        "id": "mR9CsmUQdXxo"
      },
      "outputs": [],
      "source": [
        "train_X = np.array(train_X)/255.0\n",
        "train_X = train_X.reshape(-1,32,32,1)\n",
        "train_Y = np.array(train_Y)"
      ]
    },
    {
      "cell_type": "markdown",
      "source": [
        "## **Preparing Validation Data for Model Evaluation**\n",
        "\n",
        "In this section, the validation data (val_X and val_Y) is prepared for evaluation with the trained deep learning model. Similar to the training data preparation, this involves scaling the pixel values of images and reshaping them to match the expected input shape of the model."
      ],
      "metadata": {
        "id": "FNZMPk-Bvbqf"
      }
    },
    {
      "cell_type": "code",
      "execution_count": 17,
      "metadata": {
        "id": "zXdldqhKdXxo"
      },
      "outputs": [],
      "source": [
        "val_X = np.array(val_X)/255.0\n",
        "val_X = val_X.reshape(-1,32,32,1)\n",
        "val_Y = np.array(val_Y)"
      ]
    },
    {
      "cell_type": "code",
      "execution_count": 18,
      "metadata": {
        "colab": {
          "base_uri": "https://localhost:8080/"
        },
        "id": "Ht79tSVtdXxo",
        "outputId": "b0a157d9-db88-4912-c076-d291e0b70a37"
      },
      "outputs": [
        {
          "output_type": "stream",
          "name": "stdout",
          "text": [
            "(140000, 32, 32, 1) (15209, 32, 32, 1)\n"
          ]
        }
      ],
      "source": [
        "print(train_X.shape,val_X.shape)"
      ]
    },
    {
      "cell_type": "code",
      "execution_count": 19,
      "metadata": {
        "colab": {
          "base_uri": "https://localhost:8080/"
        },
        "id": "E5IGUEB_dXxp",
        "outputId": "2d61d30a-1691-4deb-f5d9-4bdffe3de96e"
      },
      "outputs": [
        {
          "output_type": "stream",
          "name": "stdout",
          "text": [
            "(140000, 35) (15209, 35)\n"
          ]
        }
      ],
      "source": [
        "print(train_Y.shape,val_Y.shape)"
      ]
    },
    {
      "cell_type": "markdown",
      "source": [
        "## **Building a Convolutional Neural Network (CNN) for Handwritten Character Recognition**\n",
        "\n",
        "This section outlines the construction of a Convolutional Neural Network (CNN) designed to recognize handwritten characters from images. CNNs are particularly effective for image classification tasks due to their ability to automatically learn hierarchical representations of visual data."
      ],
      "metadata": {
        "id": "fwjH56-AwIoH"
      }
    },
    {
      "cell_type": "code",
      "execution_count": 20,
      "metadata": {
        "id": "iG6_xMKtdXxq"
      },
      "outputs": [],
      "source": [
        "model = Sequential()\n",
        "\n",
        "model.add(Conv2D(32, (3, 3), padding = \"same\", activation='relu', input_shape=(32,32,1)))\n",
        "model.add(MaxPooling2D(pool_size=(2,2)))\n",
        "model.add(Conv2D(64, (3, 3), activation='relu'))\n",
        "model.add(MaxPooling2D(pool_size=(2,2)))\n",
        "model.add(Conv2D(128, (3, 3), activation='relu'))\n",
        "model.add(MaxPooling2D(pool_size=(2,2)))\n",
        "model.add(Dropout(0.25))\n",
        "\n",
        "model.add(Flatten())\n",
        "model.add(Dense(128, activation='relu'))\n",
        "model.add(Dropout(0.2))\n",
        "model.add(Dense(35, activation='softmax'))"
      ]
    },
    {
      "cell_type": "code",
      "execution_count": 21,
      "metadata": {
        "colab": {
          "base_uri": "https://localhost:8080/"
        },
        "id": "tF0uNWBHdXxq",
        "outputId": "0c29899a-9785-4fc8-a13a-8fe78cb36a28"
      },
      "outputs": [
        {
          "output_type": "stream",
          "name": "stdout",
          "text": [
            "Model: \"sequential\"\n",
            "_________________________________________________________________\n",
            " Layer (type)                Output Shape              Param #   \n",
            "=================================================================\n",
            " conv2d (Conv2D)             (None, 32, 32, 32)        320       \n",
            "                                                                 \n",
            " max_pooling2d (MaxPooling2  (None, 16, 16, 32)        0         \n",
            " D)                                                              \n",
            "                                                                 \n",
            " conv2d_1 (Conv2D)           (None, 14, 14, 64)        18496     \n",
            "                                                                 \n",
            " max_pooling2d_1 (MaxPoolin  (None, 7, 7, 64)          0         \n",
            " g2D)                                                            \n",
            "                                                                 \n",
            " conv2d_2 (Conv2D)           (None, 5, 5, 128)         73856     \n",
            "                                                                 \n",
            " max_pooling2d_2 (MaxPoolin  (None, 2, 2, 128)         0         \n",
            " g2D)                                                            \n",
            "                                                                 \n",
            " dropout (Dropout)           (None, 2, 2, 128)         0         \n",
            "                                                                 \n",
            " flatten (Flatten)           (None, 512)               0         \n",
            "                                                                 \n",
            " dense (Dense)               (None, 128)               65664     \n",
            "                                                                 \n",
            " dropout_1 (Dropout)         (None, 128)               0         \n",
            "                                                                 \n",
            " dense_1 (Dense)             (None, 35)                4515      \n",
            "                                                                 \n",
            "=================================================================\n",
            "Total params: 162851 (636.14 KB)\n",
            "Trainable params: 162851 (636.14 KB)\n",
            "Non-trainable params: 0 (0.00 Byte)\n",
            "_________________________________________________________________\n"
          ]
        }
      ],
      "source": [
        "model.summary()"
      ]
    },
    {
      "cell_type": "markdown",
      "source": [
        "## **Compiling and Training the CNN Model for Handwritten Character Recognition**\n",
        "\n",
        "\n",
        "This section covers compiling the CNN model with specified loss function, optimizer, and metrics, followed by training the model using training and validation datasets."
      ],
      "metadata": {
        "id": "qGZMb7Ouwjfv"
      }
    },
    {
      "cell_type": "code",
      "execution_count": 22,
      "metadata": {
        "id": "UU945qKYdXxq"
      },
      "outputs": [],
      "source": [
        "model.compile(loss='categorical_crossentropy', optimizer=\"adam\",metrics=['accuracy'])"
      ]
    },
    {
      "cell_type": "code",
      "execution_count": 23,
      "metadata": {
        "colab": {
          "base_uri": "https://localhost:8080/"
        },
        "id": "wWjXeSk0dXxq",
        "outputId": "5dd10731-6880-477e-8ed6-e4bc5782f6b0"
      },
      "outputs": [
        {
          "output_type": "stream",
          "name": "stdout",
          "text": [
            "Epoch 1/5\n",
            "4375/4375 [==============================] - 32s 6ms/step - loss: 0.6101 - accuracy: 0.8055 - val_loss: 0.3354 - val_accuracy: 0.8959\n",
            "Epoch 2/5\n",
            "4375/4375 [==============================] - 24s 5ms/step - loss: 0.3457 - accuracy: 0.8843 - val_loss: 0.2766 - val_accuracy: 0.9084\n",
            "Epoch 3/5\n",
            "4375/4375 [==============================] - 25s 6ms/step - loss: 0.2982 - accuracy: 0.8989 - val_loss: 0.2623 - val_accuracy: 0.9037\n",
            "Epoch 4/5\n",
            "4375/4375 [==============================] - 25s 6ms/step - loss: 0.2749 - accuracy: 0.9062 - val_loss: 0.2944 - val_accuracy: 0.8955\n",
            "Epoch 5/5\n",
            "4375/4375 [==============================] - 25s 6ms/step - loss: 0.2566 - accuracy: 0.9114 - val_loss: 0.2540 - val_accuracy: 0.9020\n"
          ]
        }
      ],
      "source": [
        "history = model.fit(train_X,train_Y, epochs=5, batch_size=32, validation_data = (val_X, val_Y),  verbose=1)"
      ]
    },
    {
      "cell_type": "markdown",
      "source": [
        "## **Visualizing Training Metrics: Accuracy and Loss**\n",
        "\n",
        "After training the CNN model, it's essential to visualize how the training and validation metrics (accuracy and loss) evolve over epochs. This helps in understanding the model's performance and identifying any potential issues such as overfitting."
      ],
      "metadata": {
        "id": "MKmoSoaRxGeR"
      }
    },
    {
      "cell_type": "markdown",
      "source": [
        "**Training Accuracy vs Validation Accuracy**"
      ],
      "metadata": {
        "id": "fuxxn2JNxLPL"
      }
    },
    {
      "cell_type": "code",
      "execution_count": 24,
      "metadata": {
        "colab": {
          "base_uri": "https://localhost:8080/",
          "height": 472
        },
        "id": "n8jZogFFdXxr",
        "outputId": "18a7e3ff-f32a-4ddc-a250-df43935ffed1"
      },
      "outputs": [
        {
          "output_type": "display_data",
          "data": {
            "text/plain": [
              "<Figure size 640x480 with 1 Axes>"
            ],
            "image/png": "[encoded data removed]"
          },
          "metadata": {}
        }
      ],
      "source": [
        "plt.plot(history.history['accuracy'])\n",
        "plt.plot(history.history['val_accuracy'])\n",
        "plt.title('Training Accuracy vs Validation Accuracy')\n",
        "plt.ylabel('Accuracy')\n",
        "plt.xlabel('Epoch')\n",
        "plt.legend(['Train', 'Validation'], loc='upper left')\n",
        "plt.show()"
      ]
    },
    {
      "cell_type": "markdown",
      "source": [
        "**Training Loss vs Validation Loss**"
      ],
      "metadata": {
        "id": "OttRDopwxSF0"
      }
    },
    {
      "cell_type": "code",
      "execution_count": 25,
      "metadata": {
        "colab": {
          "base_uri": "https://localhost:8080/",
          "height": 472
        },
        "id": "XsBvk54hdXxr",
        "outputId": "f1a9f99d-08ad-4195-b72b-60c5225b0777"
      },
      "outputs": [
        {
          "output_type": "display_data",
          "data": {
            "text/plain": [
              "<Figure size 640x480 with 1 Axes>"
            ],
            "image/png": "[encoded data removed]"
          },
          "metadata": {}
        }
      ],
      "source": [
        "plt.plot(history.history['loss'])\n",
        "plt.plot(history.history['val_loss'])\n",
        "plt.title('Training Loss vs Validation Loss')\n",
        "plt.ylabel('Loss')\n",
        "plt.xlabel('Epoch')\n",
        "plt.legend(['Train', 'Validation'], loc='upper left')\n",
        "plt.show()"
      ]
    },
    {
      "cell_type": "markdown",
      "metadata": {
        "id": "U8F1fAn4dXxr"
      },
      "source": [
        "## Recognition and Post-Processing\n",
        "1. The sort contours function is used to get the correct order of individual characters for correct output extraction. In this case for extracting a single word, a left to right sorting of individual characters is needed.\n",
        "2. The get letters function fetches the list of letters and get word function gets the individual word."
      ]
    },
    {
      "cell_type": "code",
      "execution_count": 26,
      "metadata": {
        "id": "4-p3eD4zdXxs"
      },
      "outputs": [],
      "source": [
        "# Define functions\n",
        "def sort_contours(cnts, method=\"left-to-right\"):\n",
        "    reverse = False\n",
        "    i = 0\n",
        "    if method == \"right-to-left\" or method == \"bottom-to-top\":\n",
        "        reverse = True\n",
        "    if method == \"top-to-bottom\" or method == \"bottom-to-top\":\n",
        "        i = 1\n",
        "    boundingBoxes = [cv2.boundingRect(c) for c in cnts]\n",
        "    (cnts, boundingBoxes) = zip(*sorted(zip(cnts, boundingBoxes),\n",
        "                                        key=lambda b: b[1][i], reverse=reverse))\n",
        "    return (cnts, boundingBoxes)"
      ]
    },
    {
      "cell_type": "code",
      "execution_count": 27,
      "metadata": {
        "id": "rbcE44pHdXxs"
      },
      "outputs": [],
      "source": [
        "def get_letters(img_path, threshold_level=127, dilate_iter=2):\n",
        "    letters = []\n",
        "    image = cv2.imread(img_path)\n",
        "    gray = cv2.cvtColor(image, cv2.COLOR_BGR2GRAY)\n",
        "    ret, thresh1 = cv2.threshold(gray, threshold_level, 255, cv2.THRESH_BINARY_INV)\n",
        "    dilated = cv2.dilate(thresh1, None, iterations=dilate_iter)\n",
        "    cnts = cv2.findContours(dilated.copy(), cv2.RETR_EXTERNAL, cv2.CHAIN_APPROX_SIMPLE)\n",
        "    cnts = imutils.grab_contours(cnts)\n",
        "    cnts = sort_contours(cnts, method=\"left-to-right\")[0]\n",
        "\n",
        "    for c in cnts:\n",
        "        if cv2.contourArea(c) > 10:\n",
        "            (x, y, w, h) = cv2.boundingRect(c)\n",
        "            cv2.rectangle(image, (x, y), (x + w, y + h), (0, 255, 0), 2)\n",
        "            roi = gray[y:y + h, x:x + w]\n",
        "            thresh = cv2.threshold(roi, 0, 255, cv2.THRESH_BINARY_INV | cv2.THRESH_OTSU)[1]\n",
        "            thresh = cv2.resize(thresh, (32, 32), interpolation=cv2.INTER_CUBIC)\n",
        "            thresh = thresh.astype(\"float32\") / 255.0\n",
        "            thresh = np.expand_dims(thresh, axis=-1)\n",
        "            thresh = thresh.reshape(1, 32, 32, 1)\n",
        "            ypred = model.predict(thresh)\n",
        "            ypred = LB.inverse_transform(ypred)\n",
        "            [x] = ypred\n",
        "            letters.append(x)\n",
        "\n",
        "    return letters, image"
      ]
    },
    {
      "cell_type": "code",
      "execution_count": 28,
      "metadata": {
        "id": "_PVq2df_dXxt"
      },
      "outputs": [],
      "source": [
        "def get_word(letters):\n",
        "    return \"\".join(letters)"
      ]
    },
    {
      "cell_type": "code",
      "execution_count": 29,
      "metadata": {
        "colab": {
          "base_uri": "https://localhost:8080/",
          "height": 253
        },
        "id": "OLXpyT_idXxt",
        "outputId": "a504ba99-5e77-47db-d500-83dda1df30f8"
      },
      "outputs": [
        {
          "output_type": "stream",
          "name": "stdout",
          "text": [
            "1/1 [==============================] - 0s 280ms/step\n",
            "1/1 [==============================] - 0s 24ms/step\n",
            "1/1 [==============================] - 0s 21ms/step\n",
            "1/1 [==============================] - 0s 20ms/step\n",
            "1/1 [==============================] - 0s 20ms/step\n",
            "BZWE5\n"
          ]
        },
        {
          "output_type": "execute_result",
          "data": {
            "text/plain": [
              "<matplotlib.image.AxesImage at 0x79d1514a7790>"
            ]
          },
          "metadata": {},
          "execution_count": 29
        },
        {
          "output_type": "display_data",
          "data": {
            "text/plain": [
              "<Figure size 640x480 with 1 Axes>"
            ],
            "image/png": "[encoded data removed]"
          },
          "metadata": {}
        }
      ],
      "source": [
        "letter,image = get_letters(\"../input/handwriting-recognition/train_v2/train/TRAIN_00003.jpg\")\n",
        "word = get_word(letter)\n",
        "print(word)\n",
        "plt.imshow(image)"
      ]
    },
    {
      "cell_type": "code",
      "execution_count": 30,
      "metadata": {
        "colab": {
          "base_uri": "https://localhost:8080/",
          "height": 240
        },
        "id": "YkM2L2sNdXxu",
        "outputId": "9b89300f-0f35-4b1d-c82f-3196a93ae36c"
      },
      "outputs": [
        {
          "output_type": "stream",
          "name": "stdout",
          "text": [
            "1/1 [==============================] - 0s 20ms/step\n",
            "1/1 [==============================] - 0s 23ms/step\n",
            "1/1 [==============================] - 0s 21ms/step\n",
            "1/1 [==============================] - 0s 22ms/step\n",
            "1/1 [==============================] - 0s 20ms/step\n",
            "LIL0U\n"
          ]
        },
        {
          "output_type": "execute_result",
          "data": {
            "text/plain": [
              "<matplotlib.image.AxesImage at 0x79d151460820>"
            ]
          },
          "metadata": {},
          "execution_count": 30
        },
        {
          "output_type": "display_data",
          "data": {
            "text/plain": [
              "<Figure size 640x480 with 1 Axes>"
            ],
            "image/png": "[encoded data removed]"
          },
          "metadata": {}
        }
      ],
      "source": [
        "letter,image = get_letters(\"../input/handwriting-recognition/train_v2/train/TRAIN_00023.jpg\")\n",
        "word = get_word(letter)\n",
        "print(word)\n",
        "plt.imshow(image)"
      ]
    },
    {
      "cell_type": "code",
      "execution_count": 31,
      "metadata": {
        "colab": {
          "base_uri": "https://localhost:8080/",
          "height": 275
        },
        "id": "bUdWCMyldXxu",
        "outputId": "c2cea706-809a-4327-8dd8-52f246ad160c"
      },
      "outputs": [
        {
          "output_type": "stream",
          "name": "stdout",
          "text": [
            "1/1 [==============================] - 0s 28ms/step\n",
            "1/1 [==============================] - 0s 23ms/step\n",
            "1/1 [==============================] - 0s 26ms/step\n",
            "1/1 [==============================] - 0s 19ms/step\n",
            "1/1 [==============================] - 0s 19ms/step\n",
            "1/1 [==============================] - 0s 21ms/step\n",
            "1/1 [==============================] - 0s 22ms/step\n",
            "JAFFFUX\n"
          ]
        },
        {
          "output_type": "execute_result",
          "data": {
            "text/plain": [
              "<matplotlib.image.AxesImage at 0x79d1512f4550>"
            ]
          },
          "metadata": {},
          "execution_count": 31
        },
        {
          "output_type": "display_data",
          "data": {
            "text/plain": [
              "<Figure size 640x480 with 1 Axes>"
            ],
            "image/png": "[encoded data removed]"
          },
          "metadata": {}
        }
      ],
      "source": [
        "letter,image = get_letters(\"../input/handwriting-recognition/train_v2/train/TRAIN_00030.jpg\")\n",
        "word = get_word(letter)\n",
        "print(word)\n",
        "plt.imshow(image)"
      ]
    },
    {
      "cell_type": "code",
      "execution_count": 32,
      "metadata": {
        "colab": {
          "base_uri": "https://localhost:8080/",
          "height": 223
        },
        "id": "7pyKfN4UdXxv",
        "outputId": "fd82f5bf-b92a-4947-bafa-24687dc45d35"
      },
      "outputs": [
        {
          "output_type": "stream",
          "name": "stdout",
          "text": [
            "1/1 [==============================] - 0s 20ms/step\n",
            "1/1 [==============================] - 0s 20ms/step\n",
            "1/1 [==============================] - 0s 19ms/step\n",
            "1/1 [==============================] - 0s 27ms/step\n",
            "RUPP\n"
          ]
        },
        {
          "output_type": "execute_result",
          "data": {
            "text/plain": [
              "<matplotlib.image.AxesImage at 0x79d151186650>"
            ]
          },
          "metadata": {},
          "execution_count": 32
        },
        {
          "output_type": "display_data",
          "data": {
            "text/plain": [
              "<Figure size 640x480 with 1 Axes>"
            ],
            "image/png": "[encoded data removed]"
          },
          "metadata": {}
        }
      ],
      "source": [
        "letter,image = get_letters(\"../input/handwriting-recognition/validation_v2/validation/VALIDATION_0005.jpg\")\n",
        "word = get_word(letter)\n",
        "print(word)\n",
        "plt.imshow(image)"
      ]
    },
    {
      "cell_type": "markdown",
      "source": [
        "##**Setting Up a Flask App for Handwritten Text Recognition with Tesseract**\n",
        "\n",
        "This Flask application serves as an API endpoint to perform handwritten text recognition using Tesseract OCR. It allows users to upload an image file, processes it using Tesseract, and returns the extracted text."
      ],
      "metadata": {
        "id": "G_URKg89xn9c"
      }
    },
    {
      "cell_type": "code",
      "source": [],
      "metadata": {
        "id": "AXf-6vVfN9q7"
      },
      "execution_count": 32,
      "outputs": []
    },
    {
      "cell_type": "code",
      "execution_count": null,
      "metadata": {
        "colab": {
          "base_uri": "https://localhost:8080/"
        },
        "id": "I7Qxazc-Y9Ti",
        "outputId": "1d2bc885-7990-4e82-c095-37deb65c607e"
      },
      "outputs": [
        {
          "output_type": "stream",
          "name": "stdout",
          "text": [
            "Requirement already satisfied: flask in /usr/local/lib/python3.10/dist-packages (2.2.5)\n",
            "Requirement already satisfied: flask_cors in /usr/local/lib/python3.10/dist-packages (4.0.1)\n",
            "Requirement already satisfied: werkzeug in /usr/local/lib/python3.10/dist-packages (3.0.3)\n",
            "Requirement already satisfied: Pillow in /usr/local/lib/python3.10/dist-packages (9.4.0)\n",
            "Requirement already satisfied: pytesseract in /usr/local/lib/python3.10/dist-packages (0.3.10)\n",
            "Requirement already satisfied: pyngrok in /usr/local/lib/python3.10/dist-packages (7.1.6)\n",
            "Requirement already satisfied: Jinja2>=3.0 in /usr/local/lib/python3.10/dist-packages (from flask) (3.1.4)\n",
            "Requirement already satisfied: itsdangerous>=2.0 in /usr/local/lib/python3.10/dist-packages (from flask) (2.2.0)\n",
            "Requirement already satisfied: click>=8.0 in /usr/local/lib/python3.10/dist-packages (from flask) (8.1.7)\n",
            "Requirement already satisfied: MarkupSafe>=2.1.1 in /usr/local/lib/python3.10/dist-packages (from werkzeug) (2.1.5)\n",
            "Requirement already satisfied: packaging>=21.3 in /usr/local/lib/python3.10/dist-packages (from pytesseract) (24.1)\n",
            "Requirement already satisfied: PyYAML>=5.1 in /usr/local/lib/python3.10/dist-packages (from pyngrok) (6.0.1)\n",
            "Hit:1 https://cloud.r-project.org/bin/linux/ubuntu jammy-cran40/ InRelease\n",
            "Hit:2 https://developer.download.nvidia.com/compute/cuda/repos/ubuntu2204/x86_64  InRelease\n",
            "Hit:3 http://archive.ubuntu.com/ubuntu jammy InRelease\n",
            "Hit:4 http://security.ubuntu.com/ubuntu jammy-security InRelease\n",
            "Hit:5 http://archive.ubuntu.com/ubuntu jammy-updates InRelease\n",
            "Hit:6 http://archive.ubuntu.com/ubuntu jammy-backports InRelease\n",
            "Hit:7 https://ppa.launchpadcontent.net/c2d4u.team/c2d4u4.0+/ubuntu jammy InRelease\n",
            "Hit:8 https://ppa.launchpadcontent.net/deadsnakes/ppa/ubuntu jammy InRelease\n",
            "Hit:9 https://ppa.launchpadcontent.net/graphics-drivers/ppa/ubuntu jammy InRelease\n",
            "Hit:10 https://ppa.launchpadcontent.net/ubuntugis/ppa/ubuntu jammy InRelease\n",
            "Reading package lists... Done\n",
            "Reading package lists... Done\n",
            "Building dependency tree... Done\n",
            "Reading state information... Done\n",
            "tesseract-ocr is already the newest version (4.1.1-2.1build1).\n",
            "0 upgraded, 0 newly installed, 0 to remove and 45 not upgraded.\n",
            "Reading package lists... Done\n",
            "Building dependency tree... Done\n",
            "Reading state information... Done\n",
            "libtesseract-dev is already the newest version (4.1.1-2.1build1).\n",
            "0 upgraded, 0 newly installed, 0 to remove and 45 not upgraded.\n",
            "Your public URL is: NgrokTunnel: \"https://9dbf-34-16-172-81.ngrok-free.app\" -> \"http://localhost:5000\"\n",
            " * Serving Flask app '__main__'\n",
            " * Debug mode: off\n"
          ]
        },
        {
          "output_type": "stream",
          "name": "stderr",
          "text": [
            "INFO:werkzeug:\u001b[31m\u001b[1mWARNING: This is a development server. Do not use it in a production deployment. Use a production WSGI server instead.\u001b[0m\n",
            " * Running on all addresses (0.0.0.0)\n",
            " * Running on http://127.0.0.1:5000\n",
            " * Running on http://172.28.0.12:5000\n",
            "INFO:werkzeug:\u001b[33mPress CTRL+C to quit\u001b[0m\n",
            "INFO:werkzeug:127.0.0.1 - - [23/Jun/2024 13:49:35] \"POST /predict HTTP/1.1\" 200 -\n",
            "INFO:werkzeug:127.0.0.1 - - [23/Jun/2024 13:49:45] \"POST /predict HTTP/1.1\" 200 -\n",
            "INFO:werkzeug:127.0.0.1 - - [23/Jun/2024 13:49:50] \"POST /predict HTTP/1.1\" 200 -\n",
            "INFO:werkzeug:127.0.0.1 - - [23/Jun/2024 13:50:01] \"POST /predict HTTP/1.1\" 200 -\n"
          ]
        }
      ],
      "source": [
        "# Install pytesseract and Tesseract-OCR\n",
        "!pip install flask flask_cors werkzeug Pillow pytesseract pyngrok\n",
        "!apt-get update\n",
        "!apt-get install -y tesseract-ocr\n",
        "!apt-get install -y libtesseract-dev\n",
        "\n",
        "\n",
        "# Import necessary libraries\n",
        "from flask import Flask, request, jsonify\n",
        "from flask_cors import CORS\n",
        "from werkzeug.utils import secure_filename\n",
        "import os\n",
        "from PIL import Image\n",
        "import pytesseract\n",
        "\n",
        "app = Flask(__name__)\n",
        "CORS(app)\n",
        "\n",
        "@app.route('/predict', methods=['POST'])\n",
        "def predict():\n",
        "    if 'file' not in request.files:\n",
        "        return jsonify({\"error\": \"No file part\"}), 400\n",
        "\n",
        "    file = request.files['file']\n",
        "\n",
        "    if file.filename == '':\n",
        "        return jsonify({\"error\": \"No selected file\"}), 400\n",
        "\n",
        "    if file:\n",
        "        try:\n",
        "            filename = secure_filename(file.filename)\n",
        "            file_path = os.path.join(\"/tmp\", filename)\n",
        "            file.save(file_path)\n",
        "\n",
        "            image = Image.open(file_path)\n",
        "            text = pytesseract.image_to_string(image)\n",
        "            os.remove(file_path)  # Clean up the file after processing\n",
        "\n",
        "            return jsonify({\"result\": text})\n",
        "        except Exception as e:\n",
        "            print(f\"Error processing image: {str(e)}\")\n",
        "            return jsonify({\"error\": f\"Failed to process the image: {str(e)}\"}), 500\n",
        "\n",
        "    return jsonify({\"error\": \"Unexpected error\"}), 500\n",
        "\n",
        "if __name__ == \"__main__\":\n",
        "    from pyngrok import ngrok\n",
        "    ngrok.set_auth_token(\"2iBJ3n0BF1nSnH0rw0lIwUuMvF2_7LhBUBKck2kztbwA7m4iR\")\n",
        "    public_url = ngrok.connect(5000)\n",
        "    print(f\"Your public URL is: {public_url}\")\n",
        "    app.run(host='0.0.0.0', port=5000)\n"
      ]
    },
    {
      "cell_type": "markdown",
      "source": [
        "# **Handwritten Text Detection Project Summary**\n",
        "\n",
        "This project focuses on developing a deep learning model for handwritten text detection and recognition using convolutional neural networks (CNNs). The main steps of the project are as follows:\n",
        "\n",
        "1. **Data Preparation**:\n",
        "\n",
        "The dataset used for training and validation consists of handwritten characters, which are downloaded and extracted from specified URLs. The images are resized to a standard size of 32x32 pixels and labeled appropriately.\n",
        "\n",
        "2. **Data Augmentation and Preprocessing:**\n",
        "\n",
        "The data is shuffled and split into training and validation sets. Labels are binarized using a LabelBinarizer. The image pixel values are normalized by scaling them to the range [0, 1].\n",
        "\n",
        "3. **Model Building:**\n",
        "\n",
        "A CNN model is constructed using Keras. The architecture includes multiple convolutional layers followed by max-pooling layers, dropout layers for regularization, and dense layers for final classification. The model is compiled with categorical cross-entropy loss and the Adam optimizer.\n",
        "\n",
        "4. **Training:**\n",
        "\n",
        "The model is trained on the training dataset for 50 epochs with a batch size of 32. The training accuracy and loss, as well as the validation accuracy and loss, are plotted to visualize the model's performance over epochs.\n",
        "\n",
        "5. **Prediction Functionality:**\n",
        "\n",
        "Functions are implemented to extract letters from images by detecting contours, preprocessing the image, and predicting the character using the trained model. The predicted letters are then combined to form words.\n",
        "\n",
        "6. **Web Application for Image Upload and Text Recognition:**\n",
        "\n",
        "A Flask web application is developed to provide a user-friendly interface for uploading images and displaying the recognized text. The application uses pytesseract for OCR as a secondary method for text recognition."
      ],
      "metadata": {
        "id": "HMZWEBemy35A"
      }
    }
  ],
  "metadata": {
    "accelerator": "GPU",
    "colab": {
      "gpuType": "T4",
      "provenance": []
    },
    "kernelspec": {
      "display_name": "Python 3",
      "name": "python3"
    },
    "language_info": {
      "codemirror_mode": {
        "name": "ipython",
        "version": 3
      },
      "file_extension": ".py",
      "mimetype": "text/x-python",
      "name": "python",
      "nbconvert_exporter": "python",
      "pygments_lexer": "ipython3",
      "version": "3.6.4"
    }
  },
  "nbformat": 4,
  "nbformat_minor": 0
}